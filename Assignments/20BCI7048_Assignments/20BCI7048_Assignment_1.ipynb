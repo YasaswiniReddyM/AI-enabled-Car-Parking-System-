{
  "nbformat": 4,
  "nbformat_minor": 0,
  "metadata": {
    "colab": {
      "provenance": []
    },
    "kernelspec": {
      "name": "python3",
      "display_name": "Python 3"
    },
    "language_info": {
      "name": "python"
    }
  },
  "cells": [
    {
      "cell_type": "code",
      "execution_count": null,
      "metadata": {
        "colab": {
          "base_uri": "https://localhost:8080/"
        },
        "id": "h7AEjmEZk8Y9",
        "outputId": "c09beb69-5fd9-4bad-fb56-842fd702a09a"
      },
      "outputs": [
        {
          "output_type": "stream",
          "name": "stdout",
          "text": [
            "               Feature 1  Feature 2  Feature 3  Feature 4\n",
            "Observation 1   0.374540   0.950714   0.731994   0.598658\n",
            "Observation 2   0.156019   0.155995   0.058084   0.866176\n",
            "Observation 3   0.601115   0.708073   0.020584   0.969910\n",
            "Observation 4   0.832443   0.212339   0.181825   0.183405\n"
          ]
        }
      ],
      "source": [
        "#Task - 1\n",
        "import numpy as np\n",
        "import pandas as pd\n",
        "\n",
        "np.random.seed(42)\n",
        "data = np.random.rand(4, 4)\n",
        "\n",
        "columns = ['Feature 1', 'Feature 2', 'Feature 3', 'Feature 4']\n",
        "idx = ['Observation 1', 'Observation 2', 'Observation 3', 'Observation 4']\n",
        "df = pd.DataFrame(data, columns=columns, index=idx)\n",
        "print(df)"
      ]
    },
    {
      "cell_type": "code",
      "source": [
        "#Task - 2\n",
        "columns = ['Random value 1', 'Random value 2', 'Random value 3', 'Random value 4']\n",
        "df = pd.DataFrame(data, columns=columns, index=idx)\n",
        "print(df)"
      ],
      "metadata": {
        "colab": {
          "base_uri": "https://localhost:8080/"
        },
        "id": "7tOnOGH7lJKz",
        "outputId": "b998b643-9ab4-411f-e38c-1763e9fcf83d"
      },
      "execution_count": null,
      "outputs": [
        {
          "output_type": "stream",
          "name": "stdout",
          "text": [
            "               Random value 1  Random value 2  Random value 3  Random value 4\n",
            "Observation 1        0.374540        0.950714        0.731994        0.598658\n",
            "Observation 2        0.156019        0.155995        0.058084        0.866176\n",
            "Observation 3        0.601115        0.708073        0.020584        0.969910\n",
            "Observation 4        0.832443        0.212339        0.181825        0.183405\n"
          ]
        }
      ]
    },
    {
      "cell_type": "code",
      "source": [
        "#Task - 3\n",
        "print(df.describe())"
      ],
      "metadata": {
        "colab": {
          "base_uri": "https://localhost:8080/"
        },
        "id": "pQpBtfynlqgl",
        "outputId": "90bb7b5b-95f1-40f9-9fa3-529cd613ac56"
      },
      "execution_count": null,
      "outputs": [
        {
          "output_type": "stream",
          "name": "stdout",
          "text": [
            "       Random value 1  Random value 2  Random value 3  Random value 4\n",
            "count        4.000000        4.000000        4.000000        4.000000\n",
            "mean         0.491029        0.506780        0.248122        0.654537\n",
            "std          0.291252        0.386153        0.329856        0.350875\n",
            "min          0.156019        0.155995        0.020584        0.183405\n",
            "25%          0.319910        0.198253        0.048709        0.494845\n",
            "50%          0.487828        0.460206        0.119954        0.732417\n",
            "75%          0.658947        0.768733        0.319367        0.892110\n",
            "max          0.832443        0.950714        0.731994        0.969910\n"
          ]
        }
      ]
    },
    {
      "cell_type": "code",
      "source": [
        "#Task - 4\n",
        "import numpy as np\n",
        "import pandas as pd\n",
        "\n",
        "num_nulls = 2\n",
        "\n",
        "random_rows = np.random.choice(df.index, size=num_nulls, replace=False)\n",
        "random_columns = np.random.choice(df.columns, size=num_nulls, replace=False)\n",
        "\n",
        "for row, column in zip(random_rows, random_columns):\n",
        "    df.loc[row, column] = np.nan\n",
        "\n",
        "null_values = df.isnull().sum()\n",
        "\n",
        "print(\"Null Values:\")\n",
        "print(null_values)\n",
        "data_types = df.dtypes\n",
        "print(\"\\nData Types:\")\n",
        "print(data_types)"
      ],
      "metadata": {
        "colab": {
          "base_uri": "https://localhost:8080/"
        },
        "id": "Zc6B4vkQlzCA",
        "outputId": "4a0f37e7-eb5a-4eb3-c6c6-4a888339172c"
      },
      "execution_count": null,
      "outputs": [
        {
          "output_type": "stream",
          "name": "stdout",
          "text": [
            "Null Values:\n",
            "Random value 1    2\n",
            "Random value 2    2\n",
            "Random value 3    1\n",
            "Random value 4    1\n",
            "dtype: int64\n",
            "\n",
            "Data Types:\n",
            "Random value 1    float64\n",
            "Random value 2    float64\n",
            "Random value 3    float64\n",
            "Random value 4    float64\n",
            "dtype: object\n"
          ]
        }
      ]
    },
    {
      "cell_type": "code",
      "source": [
        "#Task - 5\n",
        "import pandas as pd\n",
        "\n",
        "loc_values = df.loc[:, ['Random value 2', 'Random value 3']]\n",
        "print(\"Using loc:\\n\", loc_values)\n",
        "\n",
        "index_values = df.iloc[:, [1, 2]]\n",
        "print(\"\\nUsing index location:\\n\", index_values)"
      ],
      "metadata": {
        "colab": {
          "base_uri": "https://localhost:8080/"
        },
        "id": "fqUBWdDTl96E",
        "outputId": "d0396f9c-c222-4488-d1fc-5c00feb244bc"
      },
      "execution_count": null,
      "outputs": [
        {
          "output_type": "stream",
          "name": "stdout",
          "text": [
            "Using loc:\n",
            "                Random value 2  Random value 3\n",
            "Observation 1             NaN        0.731994\n",
            "Observation 2        0.155995        0.058084\n",
            "Observation 3        0.708073             NaN\n",
            "Observation 4             NaN        0.181825\n",
            "\n",
            "Using index location:\n",
            "                Random value 2  Random value 3\n",
            "Observation 1             NaN        0.731994\n",
            "Observation 2        0.155995        0.058084\n",
            "Observation 3        0.708073             NaN\n",
            "Observation 4             NaN        0.181825\n"
          ]
        }
      ]
    },
    {
      "cell_type": "code",
      "source": [],
      "metadata": {
        "id": "6-1xxnbEm2ko"
      },
      "execution_count": null,
      "outputs": []
    }
  ]
}