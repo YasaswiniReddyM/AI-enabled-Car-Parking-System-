{
 "cells": [
  {
   "attachments": {},
   "cell_type": "markdown",
   "metadata": {},
   "source": [
    "## `Task-I` Create a pandas Dataframe with numpy random values (4 features and 4 observations)"
   ]
  },
  {
   "cell_type": "code",
   "execution_count": 1,
   "metadata": {},
   "outputs": [
    {
     "name": "stdout",
     "output_type": "stream",
     "text": [
      "               Feature 1  Feature 2  Feature 3  Feature 4\n",
      "Observation 1   0.374540   0.950714   0.731994   0.598658\n",
      "Observation 2   0.156019   0.155995   0.058084   0.866176\n",
      "Observation 3   0.601115   0.708073   0.020584   0.969910\n",
      "Observation 4   0.832443   0.212339   0.181825   0.183405\n"
     ]
    }
   ],
   "source": [
    "import numpy as np\n",
    "import pandas as pd\n",
    "\n",
    "np.random.seed(42) \n",
    "data = np.random.rand(4, 4)\n",
    "\n",
    "columns = ['Feature 1', 'Feature 2', 'Feature 3', 'Feature 4']\n",
    "\n",
    "index = ['Observation 1', 'Observation 2', 'Observation 3', 'Observation 4']\n",
    "\n",
    "df = pd.DataFrame(data, columns=columns, index=index)\n",
    "\n",
    "print(df)\n"
   ]
  },
  {
   "attachments": {},
   "cell_type": "markdown",
   "metadata": {},
   "source": [
    "## `Task-II` - Rename the task - 1 'df dataframe column names to 'Random value 1', 'Random value 2', 'Random value 3' & 'Random value 4'"
   ]
  },
  {
   "cell_type": "code",
   "execution_count": 2,
   "metadata": {},
   "outputs": [
    {
     "name": "stdout",
     "output_type": "stream",
     "text": [
      "               Random value 1  Random value 2  Random value 3  Random value 4\n",
      "Observation 1        0.374540        0.950714        0.731994        0.598658\n",
      "Observation 2        0.156019        0.155995        0.058084        0.866176\n",
      "Observation 3        0.601115        0.708073        0.020584        0.969910\n",
      "Observation 4        0.832443        0.212339        0.181825        0.183405\n"
     ]
    }
   ],
   "source": [
    "\n",
    "columns = ['Random value 1', 'Random value 2', 'Random value 3', 'Random value 4']\n",
    "\n",
    "df = pd.DataFrame(data, columns=columns, index=index)\n",
    "\n",
    "print(df)\n"
   ]
  },
  {
   "attachments": {},
   "cell_type": "markdown",
   "metadata": {},
   "source": [
    "## `Task-III` Find the descriptive statistics ot the 'df datatrame."
   ]
  },
  {
   "cell_type": "code",
   "execution_count": 5,
   "metadata": {},
   "outputs": [
    {
     "name": "stdout",
     "output_type": "stream",
     "text": [
      "       Random value 1  Random value 2  Random value 3  Random value 4\n",
      "count        4.000000        4.000000        4.000000        4.000000\n",
      "mean         0.491029        0.506780        0.248122        0.654537\n",
      "std          0.291252        0.386153        0.329856        0.350875\n",
      "min          0.156019        0.155995        0.020584        0.183405\n",
      "25%          0.319910        0.198253        0.048709        0.494845\n",
      "50%          0.487828        0.460206        0.119954        0.732417\n",
      "75%          0.658947        0.768733        0.319367        0.892110\n",
      "max          0.832443        0.950714        0.731994        0.969910\n"
     ]
    }
   ],
   "source": [
    "print(df.describe())"
   ]
  },
  {
   "attachments": {},
   "cell_type": "markdown",
   "metadata": {},
   "source": [
    "## `Task-IV` Check for the null values in 'df and find the data type of the columns."
   ]
  },
  {
   "attachments": {},
   "cell_type": "markdown",
   "metadata": {},
   "source": [
    "#### Adding Some null values ot the data farmes"
   ]
  },
  {
   "cell_type": "code",
   "execution_count": 8,
   "metadata": {},
   "outputs": [
    {
     "name": "stdout",
     "output_type": "stream",
     "text": [
      "Null Values:\n",
      "Random value 1    0\n",
      "Random value 2    1\n",
      "Random value 3    1\n",
      "Random value 4    0\n",
      "dtype: int64\n",
      "\n",
      "Data Types:\n",
      "Random value 1    float64\n",
      "Random value 2    float64\n",
      "Random value 3    float64\n",
      "Random value 4    float64\n",
      "dtype: object\n"
     ]
    }
   ],
   "source": [
    "import numpy as np\n",
    "import pandas as pd\n",
    "\n",
    "num_nulls = 2\n",
    "\n",
    "random_rows = np.random.choice(df.index, size=num_nulls, replace=False)\n",
    "random_columns = np.random.choice(df.columns, size=num_nulls, replace=False)\n",
    "\n",
    "for row, column in zip(random_rows, random_columns):\n",
    "    df.loc[row, column] = np.nan\n",
    "\n",
    "null_values = df.isnull().sum()\n",
    "\n",
    "print(\"Null Values:\")\n",
    "print(null_values)\n",
    "\n",
    "\n",
    "data_types = df.dtypes\n",
    "print(\"\\nData Types:\")\n",
    "print(data_types)"
   ]
  },
  {
   "attachments": {},
   "cell_type": "markdown",
   "metadata": {},
   "source": [
    "## `Task-V` Display the 'Random value 2' & 'Random value 3' with location method and index location"
   ]
  },
  {
   "cell_type": "code",
   "execution_count": 9,
   "metadata": {},
   "outputs": [
    {
     "name": "stdout",
     "output_type": "stream",
     "text": [
      "Using loc:\n",
      "                Random value 2  Random value 3\n",
      "Observation 1             NaN        0.731994\n",
      "Observation 2        0.155995        0.058084\n",
      "Observation 3        0.708073             NaN\n",
      "Observation 4        0.212339        0.181825\n",
      "\n",
      "Using index location:\n",
      "                Random value 2  Random value 3\n",
      "Observation 1             NaN        0.731994\n",
      "Observation 2        0.155995        0.058084\n",
      "Observation 3        0.708073             NaN\n",
      "Observation 4        0.212339        0.181825\n"
     ]
    }
   ],
   "source": [
    "import pandas as pd\n",
    "\n",
    "loc_values = df.loc[:, ['Random value 2', 'Random value 3']]\n",
    "print(\"Using loc:\\n\", loc_values)\n",
    "\n",
    "index_values = df.iloc[:, [1, 2]]\n",
    "print(\"\\nUsing index location:\\n\", index_values)\n"
   ]
  },
  {
   "cell_type": "code",
   "execution_count": null,
   "metadata": {},
   "outputs": [],
   "source": []
  }
 ],
 "metadata": {
  "kernelspec": {
   "display_name": "mahesh_ml",
   "language": "python",
   "name": "python3"
  },
  "language_info": {
   "codemirror_mode": {
    "name": "ipython",
    "version": 3
   },
   "file_extension": ".py",
   "mimetype": "text/x-python",
   "name": "python",
   "nbconvert_exporter": "python",
   "pygments_lexer": "ipython3",
   "version": "3.7.2"
  },
  "orig_nbformat": 4
 },
 "nbformat": 4,
 "nbformat_minor": 2
}
